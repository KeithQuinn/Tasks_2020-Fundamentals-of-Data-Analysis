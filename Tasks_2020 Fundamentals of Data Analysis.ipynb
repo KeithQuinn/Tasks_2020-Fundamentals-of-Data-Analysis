{
 "cells": [
  {
   "cell_type": "markdown",
   "metadata": {},
   "source": [
    "# Tasks_2020 Fundamentals of Data Analysis\n",
    "***"
   ]
  },
  {
   "cell_type": "markdown",
   "metadata": {},
   "source": [
    "## Task 1_Counts\n",
    "***\n",
    "October 5th, 2020: Write a Python function called counts that takes a list as input and returns a dictionary of unique items in the list as keys and the number of times each item appears as values. So, the input ['A', 'A', 'B', 'C', 'A'] should have output {'A': 3, 'B': 1, 'C': 1} . Your code should not depend on any module from the standard library1 or otherwise. You should research the task first and include a description with references of your algorithm in the notebook."
   ]
  },
  {
   "cell_type": "markdown",
   "metadata": {},
   "source": [
    "### Research\n",
    "\n",
    "First thoughts are that the algorithm here is gong to loop through the list and as it loops it's going to count the number of times an item appears. From this a dictionary will be constructed. Initial thoughts are that this will require the use of a 'for' loop. \n",
    "\n",
    "First steps are to get familar with lists and dictionaries. Lists and dictionaries are examples of Python collections, which allow you to store multiple similar values together in one data structure.The list data structure allows you to store data in a specific order. Lists can be changed, and multiple members can exist in a list. Dictionaries, on the other hand, are unordered, and cannot store multiple duplicate values [1]. This is interesting as the objective of this task is to output the number of times each item appears as a value.\n",
    "\n",
    "To count the number of items in a list the print(len(mylist))[2] would work, however the objective here is to construct a dictionary. The only possibility is converting a list to a dictionary where for example [1, 2, 3, 4] goes to {1:2, 3:4} but again this would be converting a list to a dictionary [3]. The aim here for Task 1_Counts is not to count how many elements are in a list nor to convert a list to a dictionary. The ask here is to loop through a list and construct a dictionary from the list. Each element in the list will be a dictionary key and the number of times each element appears in the list it will be counted and added as a value to the dictionary key, creating a dictionary key-value pairing. A good solution here is to loop through the list and as it loops through to start constructing from an empty dictionary [4]. As mentioned above a dictionary cannot store multiple duplicate values so this should work for this task."
   ]
  },
  {
   "cell_type": "markdown",
   "metadata": {},
   "source": [
    "### Development\n",
    "- Create a list of elements.\n",
    "- Create an empty dictionary.\n",
    "- Dictionary will be populated from the list.\n",
    "- Print the list and dictionary."
   ]
  },
  {
   "cell_type": "code",
   "execution_count": 5,
   "metadata": {},
   "outputs": [
    {
     "name": "stdout",
     "output_type": "stream",
     "text": [
      "['H', 'e', 'l', 'l', 'o', 'H', 'e', 'l', 'l', 'o', 'W', 'O', 'r', 'L', 'D', 1, 2, 3, 4, 4, 3, 2, 1]\n",
      "{}\n"
     ]
    }
   ],
   "source": [
    "mylist = ['H', 'e', 'l', 'l', 'o', 'H', 'e', 'l', 'l', 'o', 'W', 'O', 'r', 'L', 'D', 1, 2, 3, 4, 4, 3, 2, 1]\n",
    "mydict = {}\n",
    "print(mylist)\n",
    "print(mydict)"
   ]
  },
  {
   "cell_type": "markdown",
   "metadata": {},
   "source": [
    "The following code is designed to loop through the length of the list. As it loops through the list it takes the first element (Key), counts the number of times this element appears then adds the 'Key and Value' to the dictionary. It then starts the second loop. On the second loop the second element is selected and added to the dictionary as a key, this key is then counted and the second 'Key and Value' are added to the dictionary.\n",
    "\n",
    "*Important to note: If the second element in the list is the same as the first then the dictionary wont create a second key it'll just count this as a second occurrence of the first key. The key is a unique identifier [5]*\n",
    "\n",
    "The print function is intentionally indented in the following code to show the working of the for loop function, it's interesting to see how the loop takes the first element in the list (Key) 'H' and counts the occuences (Value) '2' , then the second Key 'e'. As per note above the third Key is 'L' and there are two of them so on the fourth loop there isn't a new key added to the dictionary. After 4 loops there are 3 Keys. This is because dictionaries cannot have duplicate values. The code is written so that;\n",
    "\n",
    "- for i in range (len(mylist)) - the for loop loops through the length of the list.\n",
    "- mydict[mylist[i]] - takes each value of i (starting at the first item in the list) from the for loop and adds it to the dictionary as the key.\n",
    "- mylist.count(mylist[i]) - With the key determined this line counts the number of times the value is repeated for each key."
   ]
  },
  {
   "cell_type": "code",
   "execution_count": 6,
   "metadata": {},
   "outputs": [
    {
     "name": "stdout",
     "output_type": "stream",
     "text": [
      "{'H': 2}\n",
      "{'H': 2, 'e': 2}\n",
      "{'H': 2, 'e': 2, 'l': 4}\n",
      "{'H': 2, 'e': 2, 'l': 4}\n",
      "{'H': 2, 'e': 2, 'l': 4, 'o': 2}\n",
      "{'H': 2, 'e': 2, 'l': 4, 'o': 2}\n",
      "{'H': 2, 'e': 2, 'l': 4, 'o': 2}\n",
      "{'H': 2, 'e': 2, 'l': 4, 'o': 2}\n",
      "{'H': 2, 'e': 2, 'l': 4, 'o': 2}\n",
      "{'H': 2, 'e': 2, 'l': 4, 'o': 2}\n",
      "{'H': 2, 'e': 2, 'l': 4, 'o': 2, 'W': 1}\n",
      "{'H': 2, 'e': 2, 'l': 4, 'o': 2, 'W': 1, 'O': 1}\n",
      "{'H': 2, 'e': 2, 'l': 4, 'o': 2, 'W': 1, 'O': 1, 'r': 1}\n",
      "{'H': 2, 'e': 2, 'l': 4, 'o': 2, 'W': 1, 'O': 1, 'r': 1, 'L': 1}\n",
      "{'H': 2, 'e': 2, 'l': 4, 'o': 2, 'W': 1, 'O': 1, 'r': 1, 'L': 1, 'D': 1}\n",
      "{'H': 2, 'e': 2, 'l': 4, 'o': 2, 'W': 1, 'O': 1, 'r': 1, 'L': 1, 'D': 1, 1: 2}\n",
      "{'H': 2, 'e': 2, 'l': 4, 'o': 2, 'W': 1, 'O': 1, 'r': 1, 'L': 1, 'D': 1, 1: 2, 2: 2}\n",
      "{'H': 2, 'e': 2, 'l': 4, 'o': 2, 'W': 1, 'O': 1, 'r': 1, 'L': 1, 'D': 1, 1: 2, 2: 2, 3: 2}\n",
      "{'H': 2, 'e': 2, 'l': 4, 'o': 2, 'W': 1, 'O': 1, 'r': 1, 'L': 1, 'D': 1, 1: 2, 2: 2, 3: 2, 4: 2}\n",
      "{'H': 2, 'e': 2, 'l': 4, 'o': 2, 'W': 1, 'O': 1, 'r': 1, 'L': 1, 'D': 1, 1: 2, 2: 2, 3: 2, 4: 2}\n",
      "{'H': 2, 'e': 2, 'l': 4, 'o': 2, 'W': 1, 'O': 1, 'r': 1, 'L': 1, 'D': 1, 1: 2, 2: 2, 3: 2, 4: 2}\n",
      "{'H': 2, 'e': 2, 'l': 4, 'o': 2, 'W': 1, 'O': 1, 'r': 1, 'L': 1, 'D': 1, 1: 2, 2: 2, 3: 2, 4: 2}\n",
      "{'H': 2, 'e': 2, 'l': 4, 'o': 2, 'W': 1, 'O': 1, 'r': 1, 'L': 1, 'D': 1, 1: 2, 2: 2, 3: 2, 4: 2}\n",
      "-----------------------------------------------------------------------------------------\n",
      "The newly created dictionary as per requirement of the task is as follows.\n",
      "{'H': 2, 'e': 2, 'l': 4, 'o': 2, 'W': 1, 'O': 1, 'r': 1, 'L': 1, 'D': 1, 1: 2, 2: 2, 3: 2, 4: 2}\n"
     ]
    }
   ],
   "source": [
    "for i in range (len(mylist)):\n",
    "    mydict[mylist[i]] = mylist.count(mylist[i])\n",
    "    print(mydict)\n",
    "print('-----------------------------------------------------------------------------------------')\n",
    "print('The newly created dictionary as per requirement of the task is as follows.')\n",
    "print(mydict)"
   ]
  },
  {
   "cell_type": "markdown",
   "metadata": {},
   "source": [
    "#### Creating a Function\n",
    "***\n",
    "With the for loop working and creating a dictionary the next step is to create a function with this for loop included. The function is called 'count' see below for function code."
   ]
  },
  {
   "cell_type": "code",
   "execution_count": 7,
   "metadata": {},
   "outputs": [],
   "source": [
    "def count(x):\n",
    "    for i in range (len(mylist)):\n",
    "        mydict[mylist[i]] = mylist.count(mylist[i])\n",
    "    ans = mydict\n",
    "    return ans"
   ]
  },
  {
   "cell_type": "markdown",
   "metadata": {},
   "source": [
    "From this point this function can be used to create a dictionary from a list by calling the function 'count' as *per* below;"
   ]
  },
  {
   "cell_type": "code",
   "execution_count": 8,
   "metadata": {},
   "outputs": [
    {
     "data": {
      "text/plain": [
       "{'H': 2,\n",
       " 'e': 2,\n",
       " 'l': 4,\n",
       " 'o': 2,\n",
       " 'W': 1,\n",
       " 'O': 1,\n",
       " 'r': 1,\n",
       " 'L': 1,\n",
       " 'D': 1,\n",
       " 1: 2,\n",
       " 2: 2,\n",
       " 3: 2,\n",
       " 4: 2}"
      ]
     },
     "execution_count": 8,
     "metadata": {},
     "output_type": "execute_result"
    }
   ],
   "source": [
    "count([mylist])"
   ]
  },
  {
   "cell_type": "markdown",
   "metadata": {},
   "source": [
    " #### Learnings\n",
    "Good learning here around the understanding of lists and dictionaries. It's possible to count the number of elements in a list, create a dictionaries from a list, counting the number of elements in a list and how a dictionary consists of a collection of key-value pairs with each key being a unique identifier.\n",
    "\n",
    "With reference to the code above with indenting the print function within the for loop it's interesting to visualise the dictionary being constructed on a loop by loop basis. You can see that there are 23 elements in the list and the for loop went through the list 23 times. However there are only 13 different dictionary keys, meaning that on the first loop all the H's were counted and asigned to the key \"H\" so whenever the for loop came to H again it still went through the list but didn't create a new key as evident on the 6th loop. This is because dictionaries cannot have duplicate values.\n",
    "\n",
    "It's interesting and useful to know how to create a function. With the function in place it can be called from that point forward in the program. It was interesting here in combining a for loop within a function. This shows how combining basic statements can be useful."
   ]
  },
  {
   "cell_type": "markdown",
   "metadata": {},
   "source": [
    "### References\n",
    "[1] James Galagher; Python Convert List to Dictionary; Career Karma; https://careerkarma.com/blog/python-convert-list-to-dictionary/\n",
    "\n",
    "[2] Stack Overflow; Python - Count elements in list; https://stackoverflow.com/questions/4130027/python-count-elements-in-list\n",
    "\n",
    "[3] Stack Overflow; Python - Convert list to dictionary; https://stackoverflow.com/questions/6900955/python-convert-list-to-dictionary\n",
    "\n",
    "[4] Python Programming: Creating a dictionary from a list; Tawsif Alam; https://www.youtube.com/watch?v=LcM8h2YoVfg\n",
    "\n",
    "[5] Python Tutorial for Beginners 5: Dictionaries - Working with Key-Value Pairs; Corey Schafer; https://www.youtube.com/watch?v=daefaLgNkw0"
   ]
  }
 ],
 "metadata": {
  "kernelspec": {
   "display_name": "Python 3",
   "language": "python",
   "name": "python3"
  },
  "language_info": {
   "codemirror_mode": {
    "name": "ipython",
    "version": 3
   },
   "file_extension": ".py",
   "mimetype": "text/x-python",
   "name": "python",
   "nbconvert_exporter": "python",
   "pygments_lexer": "ipython3",
   "version": "3.8.3"
  }
 },
 "nbformat": 4,
 "nbformat_minor": 4
}
