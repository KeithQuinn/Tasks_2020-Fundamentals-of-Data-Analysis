{
 "cells": [
  {
   "cell_type": "markdown",
   "metadata": {},
   "source": [
    "# Tasks_2020 Fundamentals of Data Analysis\n",
    "***\n",
    "## Task 1_counts \n",
    "***\n",
    "### 1.1 Instructions\n",
    "October 5th, 2020: Write a Python function called counts that takes a list as input and returns a dictionary of unique items in the list as keys and the number of times each item appears as values. So, the input ['A', 'A', 'B', 'C', 'A'] should have output {'A': 3, 'B': 1, 'C': 1} . Your code should not depend on any module from the standard library1 or otherwise. You should research the task first and include a description with references of your algorithm in the notebook.\n",
    "\n",
    "### 1.2 Research\n",
    "\n",
    "First thoughts are that the algorithm here is gong to loop through the list and as it loops it's going to count the number of times an item appears. From this a dictionary will be constructed. Initial thoughts are that this will require the use of a 'for' loop. \n",
    "\n",
    "First steps are to get familar with lists and dictionaries. Lists and dictionaries are examples of Python collections, which allow you to store multiple similar values together in one data structure.The list data structure allows you to store data in a specific order. Lists can be changed, and multiple members can exist in a list. Dictionaries, on the other hand, are unordered, and cannot store multiple duplicate values [1]. This is interesting as the objective of this task is to output the number of times each item appears as a value.\n",
    "\n",
    "To count the number of items in a list the print(len(mylist))[2] would work, however the objective here is to construct a dictionary. The only possibility is converting a list to a dictionary where for example [1, 2, 3, 4] goes to {1:2, 3:4} but again this would be converting a list to a dictionary [3]. The aim here for Task 1_Counts is not to count how many elements are in a list nor to convert a list to a dictionary. The ask here is to loop through a list and construct a dictionary from the list. Each element in the list will be a dictionary key and the number of times each element appears in the list it will be counted and added as a value to the dictionary key, creating a dictionary key-value pairing. A good solution here is to loop through the list and as it loops through to start constructing from an empty dictionary [4]. As mentioned above a dictionary cannot store multiple duplicate values so this should work for this task.\n",
    "\n",
    "### 1.3 Development\n",
    "\n",
    "- Create a list of elements.\n",
    "- Create an empty dictionary.\n",
    "- Dictionary will be populated from the list.\n",
    "- Print the list and dictionary."
   ]
  },
  {
   "cell_type": "code",
   "execution_count": 1,
   "metadata": {},
   "outputs": [
    {
     "name": "stdout",
     "output_type": "stream",
     "text": [
      "['H', 'e', 'l', 'l', 'o', 'H', 'e', 'l', 'l', 'o', 'W', 'O', 'r', 'L', 'D', 1, 2, 3, 4, 4, 3, 2, 1]\n",
      "{}\n"
     ]
    }
   ],
   "source": [
    "mylist = ['H', 'e', 'l', 'l', 'o', 'H', 'e', 'l', 'l', 'o', 'W', 'O', 'r', 'L', 'D', 1, 2, 3, 4, 4, 3, 2, 1] # list\n",
    "mydict = {} # empty dictionary\n",
    "print(mylist)\n",
    "print(mydict)"
   ]
  },
  {
   "cell_type": "markdown",
   "metadata": {},
   "source": [
    "The following code is designed to loop through the length of the list. As it loops through the list it takes the first element (Key), counts the number of times this element appears then adds the 'Key and Value' to the dictionary. It then starts the second loop. On the second loop the second element is selected and added to the dictionary as a key, this key is then counted and the second 'Key and Value' are added to the dictionary.\n",
    "\n",
    "*Important to note: If the second element in the list is the same as the first then the dictionary wont create a second key it'll just count this as a second occurrence of the first key. The key is a unique identifier [5]*\n",
    "\n",
    "The print function is intentionally indented in the following code to show the working of the for loop function, it's interesting to see how the loop takes the first element in the list (Key) 'H' and counts the occuences (Value) '2' , then the second Key 'e'. As per note above the third Key is 'L' and there are two of them so on the fourth loop there isn't a new key added to the dictionary. After 4 loops there are 3 Keys. This is because dictionaries cannot have duplicate values. The code is written so that;\n",
    "\n",
    "- for i in range (len(mylist)) - the for loop loops through the length of the list.\n",
    "- mydict[mylist[i]] - takes each value of i (starting at the first item in the list) from the for loop and adds it to the dictionary as the key.\n",
    "- mylist.count(mylist[i]) - With the key determined this line counts the number of times the value is repeated for each key."
   ]
  },
  {
   "cell_type": "code",
   "execution_count": 2,
   "metadata": {
    "scrolled": true
   },
   "outputs": [
    {
     "name": "stdout",
     "output_type": "stream",
     "text": [
      "{'H': 2}\n",
      "{'H': 2, 'e': 2}\n",
      "{'H': 2, 'e': 2, 'l': 4}\n",
      "{'H': 2, 'e': 2, 'l': 4}\n",
      "{'H': 2, 'e': 2, 'l': 4, 'o': 2}\n",
      "{'H': 2, 'e': 2, 'l': 4, 'o': 2}\n",
      "{'H': 2, 'e': 2, 'l': 4, 'o': 2}\n",
      "{'H': 2, 'e': 2, 'l': 4, 'o': 2}\n",
      "{'H': 2, 'e': 2, 'l': 4, 'o': 2}\n",
      "{'H': 2, 'e': 2, 'l': 4, 'o': 2}\n",
      "{'H': 2, 'e': 2, 'l': 4, 'o': 2, 'W': 1}\n",
      "{'H': 2, 'e': 2, 'l': 4, 'o': 2, 'W': 1, 'O': 1}\n",
      "{'H': 2, 'e': 2, 'l': 4, 'o': 2, 'W': 1, 'O': 1, 'r': 1}\n",
      "{'H': 2, 'e': 2, 'l': 4, 'o': 2, 'W': 1, 'O': 1, 'r': 1, 'L': 1}\n",
      "{'H': 2, 'e': 2, 'l': 4, 'o': 2, 'W': 1, 'O': 1, 'r': 1, 'L': 1, 'D': 1}\n",
      "{'H': 2, 'e': 2, 'l': 4, 'o': 2, 'W': 1, 'O': 1, 'r': 1, 'L': 1, 'D': 1, 1: 2}\n",
      "{'H': 2, 'e': 2, 'l': 4, 'o': 2, 'W': 1, 'O': 1, 'r': 1, 'L': 1, 'D': 1, 1: 2, 2: 2}\n",
      "{'H': 2, 'e': 2, 'l': 4, 'o': 2, 'W': 1, 'O': 1, 'r': 1, 'L': 1, 'D': 1, 1: 2, 2: 2, 3: 2}\n",
      "{'H': 2, 'e': 2, 'l': 4, 'o': 2, 'W': 1, 'O': 1, 'r': 1, 'L': 1, 'D': 1, 1: 2, 2: 2, 3: 2, 4: 2}\n",
      "{'H': 2, 'e': 2, 'l': 4, 'o': 2, 'W': 1, 'O': 1, 'r': 1, 'L': 1, 'D': 1, 1: 2, 2: 2, 3: 2, 4: 2}\n",
      "{'H': 2, 'e': 2, 'l': 4, 'o': 2, 'W': 1, 'O': 1, 'r': 1, 'L': 1, 'D': 1, 1: 2, 2: 2, 3: 2, 4: 2}\n",
      "{'H': 2, 'e': 2, 'l': 4, 'o': 2, 'W': 1, 'O': 1, 'r': 1, 'L': 1, 'D': 1, 1: 2, 2: 2, 3: 2, 4: 2}\n",
      "{'H': 2, 'e': 2, 'l': 4, 'o': 2, 'W': 1, 'O': 1, 'r': 1, 'L': 1, 'D': 1, 1: 2, 2: 2, 3: 2, 4: 2}\n",
      "-----------------------------------------------------------------------------------------\n",
      "The newly created dictionary as per requirement of the task is as follows.\n",
      "{'H': 2, 'e': 2, 'l': 4, 'o': 2, 'W': 1, 'O': 1, 'r': 1, 'L': 1, 'D': 1, 1: 2, 2: 2, 3: 2, 4: 2}\n"
     ]
    }
   ],
   "source": [
    "for i in range (len(mylist)): # for loop to loop through mylist\n",
    "    mydict[mylist[i]] = mylist.count(mylist[i]) # create a dictionary from my list\n",
    "    print(mydict)\n",
    "print('-----------------------------------------------------------------------------------------')\n",
    "print('The newly created dictionary as per requirement of the task is as follows.')\n",
    "print(mydict)"
   ]
  },
  {
   "cell_type": "markdown",
   "metadata": {},
   "source": [
    "### 1.4 Creating a Function\n",
    "***\n",
    "With the for loop working and creating a dictionary the next step is to create a function with this for loop included. The function is called 'count' see below for function code."
   ]
  },
  {
   "cell_type": "code",
   "execution_count": 3,
   "metadata": {},
   "outputs": [],
   "source": [
    "def count(x): # create a function\n",
    "    for i in range (len(mylist)): # for loop to loop through mylist\n",
    "        mydict[mylist[i]] = mylist.count(mylist[i]) # create a dictionary from my list\n",
    "    ans = mydict\n",
    "    return ans"
   ]
  },
  {
   "cell_type": "markdown",
   "metadata": {},
   "source": [
    "From this point this function can be used to create a dictionary from a list by calling the function 'count' as *per* below;"
   ]
  },
  {
   "cell_type": "code",
   "execution_count": 4,
   "metadata": {},
   "outputs": [
    {
     "data": {
      "text/plain": [
       "{'H': 2,\n",
       " 'e': 2,\n",
       " 'l': 4,\n",
       " 'o': 2,\n",
       " 'W': 1,\n",
       " 'O': 1,\n",
       " 'r': 1,\n",
       " 'L': 1,\n",
       " 'D': 1,\n",
       " 1: 2,\n",
       " 2: 2,\n",
       " 3: 2,\n",
       " 4: 2}"
      ]
     },
     "execution_count": 4,
     "metadata": {},
     "output_type": "execute_result"
    }
   ],
   "source": [
    "count([mylist]) # run the count function "
   ]
  },
  {
   "cell_type": "markdown",
   "metadata": {},
   "source": [
    " ### 1.5 Learnings\n",
    "Good learning here around the understanding of lists and dictionaries. It's possible to count the number of elements in a list, create a dictionaries from a list, counting the number of elements in a list and how a dictionary consists of a collection of key-value pairs with each key being a unique identifier.\n",
    "\n",
    "With reference to the code above with indenting the print function within the for loop it's interesting to visualise the dictionary being constructed on a loop by loop basis. You can see that there are 23 elements in the list and the for loop went through the list 23 times. However there are only 13 different dictionary keys, meaning that on the first loop all the H's were counted and asigned to the key \"H\" so whenever the for loop came to H again it still went through the list but didn't create a new key as evident on the 6th loop. This is because dictionaries cannot have duplicate values.\n",
    "\n",
    "It's interesting and useful to know how to create a function. With the function in place it can be called from that point forward in the program. It was interesting here in combining a for loop within a function. This shows how combining basic statements can be useful."
   ]
  },
  {
   "cell_type": "markdown",
   "metadata": {},
   "source": [
    "## Task 2_dicerolls\n",
    "***\n",
    "### 2.1 Instructions\n",
    "November 2nd, 2020: Write a Python function called dicerolls that simulates rolling dice. Your function should take two parameters: the number of dice k and the number of times to roll the dice n. The function should simulate randomly rolling k dice n times, keeping track of each total face value. It should then return a dictionary with the number of times each possible total face value occurred. So, calling the function as diceroll (k=2, n=1000) should return a dictionary like: {2:19,3:50,4:82,5:112,6:135,7:174,8:133,9:114,10:75,11:70,12:36} You can use any module from the Python standard library you wish and you should include a description with references of your algorithm in the notebook.\n",
    "\n",
    "### 2.2 Research\n",
    "Initial thoughts here is that numpy.random is going to be required to simulate the rolling of the dice/die. Given the knowledge base thus far confidence is high for this task and so minimum research was required. The approach was to break the function into three main parts;\n",
    "\n",
    " - Part 1) Roll the dice.\n",
    " - Part 2) Include a plotting element within the function.\n",
    " - Part 3) Create and populate the dictionary.\n",
    " \n",
    "The first part was going to be the most complex as this was something new. The function will use random.randint [6] function to simulate rolling a dice. numpy.append [7] will be used to append the results to a list which will be required if there are more than one dice. Python sum [8] will be used to sum the values.\n",
    "\n",
    "In the second part of the task the code from task 1 will be used to create a dictionary and in the third part a plot will be included to provide a visual representation of the results from running the function."
   ]
  },
  {
   "cell_type": "markdown",
   "metadata": {},
   "source": [
    "### 2.3 Development\n",
    "In the code below it can be seen that the function is broken into three distinct parts;\n",
    "\n",
    "#### 2.3.1 Part 1) Roll the dice.\n",
    " \n",
    "This section of the code considers the simulation of rolling k dice/die n number of times. To achieve this a for loop inside a while loop was implemented. The while loop takes care of the n number of time the die/dice are rolled and the for loop takes care of the k number of die/dice. Starting with an empty list for die and using the random.randint function within the numpy random package data was randomly generated for each dice with each dice having equal probability of landing a number between 1 to 6 inclusive. The for loop loops n times for n dice. Each time a value is generated it is added to the die list and when the loops have finished the values within the list are summed. The summed values are then appended to an empty list k times, this list is then used to to create the dictionary in part 3.\n",
    "\n",
    " \n",
    "#### 2.3.2 Part 2) Include a plotting element within the function.\n",
    " \n",
    "A countplot is used to provide a visual representation of the results. What's interetsing is that after rolling a single dice enough times (law of large numbers) then each of the values of 1 to 6 appears equal amount of times which is close to the theoretical 16.67% probability. If you increase the k to 2 die then the results change in that the probability for each of the values change, this can be attributed to the fact that there is weighted probability where there is only one result that give a 2 (both die roll a 1) or a 12 (both die roll a 6) unlike the number 7 which can be achieved by the die rolling a combination of 1,6 or 2,5 or 3,4 and vice versa 6,1 or 2,5 or 3,4 this shows that there are 6 times more ways of rolling a 7 than a 1 or 12. The plot is unseful to visualise thes distributions.\n",
    "\n",
    "\n",
    "#### 2.3.3 Part 3) Create and populate the dictionary.\n",
    " \n",
    "The code for creating the dictionary is taken from Task 1 above so for full detail refer to Task 1."
   ]
  },
  {
   "cell_type": "code",
   "execution_count": 5,
   "metadata": {},
   "outputs": [],
   "source": [
    "import numpy as np\n",
    "import matplotlib.pyplot as plt\n",
    "import seaborn as sns\n",
    "import random\n",
    "\n",
    "tot = [] # list of dice summations from each throw, starting with an empty list\n",
    "dict_dice = {} # dictionary keys will be the dice values summed and the values will be the number of occurrances of each key \n",
    "\n",
    "#------------------Roll the dice-------------------------\n",
    "\n",
    "def dicerolls(k, n): # function takes two inputs, number of dice (k) and number of rolls (n)\n",
    "    rolls = 1 # start will setting roll to 1 which will be the first roll\n",
    "    while rolls != n: # as long as rolls are less than n the function will keep looping\n",
    "        rolls = rolls + 1 # add 1 to rolls on each loop until n loops is met\n",
    "        die = [] # start with an empty list for die\n",
    "        for num in range(k): # for loop for number of dice k            \n",
    "            dice = random.randint(1, 6) # generate a random value for dice which is from 1 to 6\n",
    "            die.append(dice) # append the result from each dice to the die list\n",
    "            total = (sum(die)) # sum the values from all die\n",
    "        tot.append(total) # append the tot dictionary with summations value from each roll\n",
    "\n",
    "#----------------------Plot-------------------------------\n",
    "\n",
    "    plt.figure(figsize=(10, 6)) # set figure size\n",
    "    sns.set(style=\"darkgrid\") # set style\n",
    "    ax = sns.countplot(y=tot) # plot countplot\n",
    "    plt.title(\"Dice Roll\") # title\n",
    "    plt.ylabel(\"Rolled Dice Value Summation\") # yaxis label\n",
    "    plt.show() # show plot\n",
    "\n",
    "#----------------Create a dictionary---------------------\n",
    "\n",
    "    for i in range (len(tot)): # for loop to loop through the length of tot list\n",
    "        dict_dice[tot[i]] = tot.count(tot[i]) # dictiionary counting how many times each key appears\n",
    "    return dict_dice #returning the populated dictionary dict_dice"
   ]
  },
  {
   "cell_type": "code",
   "execution_count": 6,
   "metadata": {},
   "outputs": [
    {
     "data": {
      "image/png": "[encoded data removed]",
      "text/plain": [
       "<Figure size 720x432 with 1 Axes>"
      ]
     },
     "metadata": {
      "needs_background": "light"
     },
     "output_type": "display_data"
    },
    {
     "data": {
      "text/plain": [
       "{7: 168,\n",
       " 4: 88,\n",
       " 9: 103,\n",
       " 6: 152,\n",
       " 11: 51,\n",
       " 5: 125,\n",
       " 8: 158,\n",
       " 10: 75,\n",
       " 2: 22,\n",
       " 3: 36,\n",
       " 12: 21}"
      ]
     },
     "execution_count": 6,
     "metadata": {},
     "output_type": "execute_result"
    }
   ],
   "source": [
    "dicerolls(k=2, n=1000) # run the dicerolls function"
   ]
  },
  {
   "cell_type": "markdown",
   "metadata": {},
   "source": [
    "### 2.4 Learnings\n",
    "What was encouraging about this task was that using the knowledge base learned through the course it was possible to visualise and plan how to complete this task without doing much research. That being said I got caught for about 3 hours with creating the tot list which was the list that houses all the summed values from the dice rolls. The issue was that the empth list was created within the loop and given that the lists are mutable it was being cleared every loop with the only item in the list being the number from the last loop. This took some time to figure out but it was figured out through trial and error and eventually the nut was cracked. Overall a great excercise, a tough challenge nearly pulled my hair out at one stage nut great feeling when it got figured out.\n",
    "\n",
    "## Task 3_binomial \n",
    "***\n",
    "### 3.1 Instructions\n",
    "The numpy.random.binomial function can be used to simulate flipping a coin with a 50/50 chance of heads or tails. Interestingly, if a coin is flipped many times then the number of heads is well approximated by a bell-shaped curve. For instance, if we flip a coin 100 times in a row the chance of getting 50 heads is relatively high, the chances of getting 0 or 100 heads is relatively low, and the chances of getting any other number of heads decreases as you move away from 50 in either direction towards 0 or 100. Write some python code that simulates flipping a coin 100 times. Then run this code 1,000 times, keeping track of the number of heads in each of the 1,000 simulations. Select an appropriate plot to depict the resulting list of 1,000 numbers, showing that it roughly follows a bell-shaped curve. You should explain your work in a Markdown cell above the code.\n",
    "\n",
    "### 3.2 Research\n",
    "A binomial distribution can be thought of as simply the probability of a SUCCESS or FAILURE outcome in an experiment or survey that is repeated multiple times. The binomial is a type of distribution that has two possible outcomes (the prefix “bi” means two, or twice). For example, a coin toss has only two possible outcomes: heads or tails and taking a test could have two possible outcomes: pass or fail. If you purchase a lottery ticket, you’re either going to win money, or you aren’t. Basically, anything you can think of that can only be a success or a failure can be represented by a binomial distribution[9].\n",
    "\n",
    "\n",
    "### 3.3 Development\n",
    "As previously discussed a binomial distribution can be thought of as simply the probability of a SUCCESS or FAILURE outcome in an experiment or survey that is repeated multiple times. In the code below there are 3 parameters required for np.random.binomial(n, p, size);\n",
    "\n",
    "- 'n' is the number of trials (how many times the coin will be flipped)\n",
    "- 'p' is the probability (1/2 or 50% for a coin toss)\n",
    "- 'size' is the number of repeated trials (number of times the trials above is repeated)\n",
    "\n",
    "With reference to the task instruction by setting n=100 and size=1 and running the code the number of true (heads) is always approximately 50 times or 50% of the time. However it gets interesting when the repeated trials are increased, for demonstration in the code below n=100 and size=1000 it can be seen that the distribution roughly follows a bell-shaped curve."
   ]
  },
  {
   "cell_type": "code",
   "execution_count": 8,
   "metadata": {
    "scrolled": false
   },
   "outputs": [
    {
     "data": {
      "image/png": "[encoded data removed]",
      "text/plain": [
       "<Figure size 720x432 with 1 Axes>"
      ]
     },
     "metadata": {},
     "output_type": "display_data"
    }
   ],
   "source": [
    "n = 100 # number of trials\n",
    "p = 0.5 # probability of heads or tails\n",
    "size = 1000 # number of repeats\n",
    "\n",
    "binomial_data = np.random.binomial(n, p, size) # create a binomial dataset\n",
    "percentage = ((binomial_data/n)*100) # true as a percentage of total trials\n",
    "percentage = percentage.astype(int) # dropping the decimal point from the value, looks better for x axis ticks\n",
    "      \n",
    "plt.figure(figsize=(10, 6)) # figure size\n",
    "sns.set(style=\"darkgrid\") # set style\n",
    "ax = sns.countplot(x=percentage) # plot countplot\n",
    "plt.title(\"Dice Roll\") # title\n",
    "plt.suptitle(\"Binomial Distribution\") # subtitle\n",
    "plt.ylabel(\"Occurences\") # ylabel\n",
    "\n",
    "plt.xlabel(f'Percentage [%] Heads from {n} trials and {size} repeats') # xlabel\n",
    "txt=\"Figure 1: Binomial Distribution.\" # create caption\n",
    "plt.figtext(0.5, 0.01, txt, wrap=True, horizontalalignment='center', fontsize=10) # locate caption\n",
    "plt.show() # show countplot"
   ]
  },
  {
   "cell_type": "markdown",
   "metadata": {},
   "source": [
    "### 3.4 Learnings\n",
    "Good learnings here in understanding what a binomial distribution is and how to use it to prove out the theory provided in the task description. It's interesting to visualise running 100 trials with 1 repeat that the result is roughly 50% heads and 50% tails which is close to the theoretical probability, then it got even more interesting when repeating the 100 trials 1000 times to see the bell shaped results. Importantly it makes sense too that there would be results in some of the 1000 repeats that wouldn't be exactly 50%. From the distribution it gets very unlikely that there would be less than 40% or more than 60% heads for the 100 trials repeated 1000 times.\n",
    "\n",
    "\n",
    "## References\n",
    "[1] James Galagher; Python Convert List to Dictionary; Career Karma; https://careerkarma.com/blog/python-convert-list-to-dictionary/\n",
    "\n",
    "[2] Stack Overflow; Python - Count elements in list; https://stackoverflow.com/questions/4130027/python-count-elements-in-list\n",
    "\n",
    "[3] Stack Overflow; Python - Convert list to dictionary; https://stackoverflow.com/questions/6900955/python-convert-list-to-dictionary\n",
    "\n",
    "[4] Python Programming: Creating a dictionary from a list; Tawsif Alam; https://www.youtube.com/watch?v=LcM8h2YoVfg\n",
    "\n",
    "[5] Python Tutorial for Beginners 5: Dictionaries - Working with Key-Value Pairs; Corey Schafer; https://www.youtube.com/watch?v=daefaLgNkw0\n",
    "\n",
    "[6] SciPy Org; Random sampling (numpy.random); https://docs.scipy.org/doc/numpy-1.15.0/reference/routines.random.html\n",
    "\n",
    "[7] Numpy Org; numpy.append; https://numpy.org/doc/stable/reference/generated/numpy.append.html\n",
    "\n",
    "[8] Programiz; PythonSum; https://www.programiz.com/python-programming/methods/built-in/sum\n",
    "\n",
    "[9]  Statistics How To; Binomial Distribution: Formula, What it is and How to use it; https://www.statisticshowto.com/probability-and-statistics/binomial-theorem/binomial-distribution-formula/"
   ]
  }
 ],
 "metadata": {
  "kernelspec": {
   "display_name": "Python 3",
   "language": "python",
   "name": "python3"
  },
  "language_info": {
   "codemirror_mode": {
    "name": "ipython",
    "version": 3
   },
   "file_extension": ".py",
   "mimetype": "text/x-python",
   "name": "python",
   "nbconvert_exporter": "python",
   "pygments_lexer": "ipython3",
   "version": "3.8.3"
  }
 },
 "nbformat": 4,
 "nbformat_minor": 4
}
