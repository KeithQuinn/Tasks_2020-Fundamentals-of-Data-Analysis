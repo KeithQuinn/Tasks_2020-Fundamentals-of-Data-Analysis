{
 "cells": [
  {
   "cell_type": "markdown",
   "metadata": {},
   "source": [
    "# Tasks_2020 Fundamentals of Data Analysis\n",
    "***"
   ]
  },
  {
   "cell_type": "markdown",
   "metadata": {},
   "source": [
    "### Task 1_Counts\n",
    "***\n",
    "October 5th, 2020: Write a Python function called counts that takes a list as input and returns a dictionary of unique items in the list as keys and the number of times each item appears as values. So, the input ['A', 'A', 'B', 'C', 'A'] should have output {'A': 3, 'B': 1, 'C': 1} . Your code should not depend on any module from the standard library1 or otherwise. You should research the task first and include a description with references of your algorithm in the notebook."
   ]
  },
  {
   "cell_type": "markdown",
   "metadata": {},
   "source": [
    "#### Research\n",
    "\n",
    "First thoughts are that the algorithm here is gong to loop through the list and as it loops it's going to count the number of times an item appears, this will require the use of a for loop. \n",
    "\n",
    "First steps are to get familar with lists and dictionaries. Lists and dictionaries are examples of Python collections, which allow you to store multiple similar values together in one data structure.The list data structure allows you to store data in a specific order. Lists can be changed, and multiple members can exist in a list. Dictionaries, on the other hand, are unordered, and cannot store multiple duplicate values [1]. This is interesting as the objective of this task is to output the number of times each item appears as a value.\n",
    "\n",
    "To count the number of items in a list the print(len(mylist))[2] would work but I want to construct a dictionary. The only possibility is converting a list to a dictionary where for example [1, 2, 3, 4] goes to {1:2, 3:4} but again this would be converting a list to a dictionary [3]. The aim here for task 1 is not to count how many elements are in a list nor to convert a list to a dictionary, the ask here is to loop through a list and construct a dictionary so each element in the list as keys and the number of times each item (key) appears in the list. A good solution here is to loop through the list and as it loops through to start constructing from an empty dictionary [4]. As mentioned above a dictionary cannot store multiple duplicate values so this should work for this task."
   ]
  },
  {
   "cell_type": "markdown",
   "metadata": {},
   "source": [
    "#### Development"
   ]
  },
  {
   "cell_type": "code",
   "execution_count": 46,
   "metadata": {},
   "outputs": [
    {
     "name": "stdout",
     "output_type": "stream",
     "text": [
      "[1, 2, 5, 4, 1, 1, 3, 2, 1, 1, 1, 'e', 'e']\n",
      "{}\n"
     ]
    }
   ],
   "source": [
    "#first thing required is a list\n",
    "mylist = [1, 2, 5, 4, 1, 1, 3, 2, 1, 1, 1, 'e', 'e']\n",
    "\n",
    "#starting with an empty dictionary\n",
    "mydict = {}\n",
    "\n",
    "print(mylist)\n",
    "print(mydict)"
   ]
  },
  {
   "cell_type": "code",
   "execution_count": 47,
   "metadata": {},
   "outputs": [
    {
     "name": "stdout",
     "output_type": "stream",
     "text": [
      "{1: 6}\n",
      "{1: 6, 2: 2}\n",
      "{1: 6, 2: 2, 5: 1}\n",
      "{1: 6, 2: 2, 5: 1, 4: 1}\n",
      "{1: 6, 2: 2, 5: 1, 4: 1}\n",
      "{1: 6, 2: 2, 5: 1, 4: 1}\n",
      "{1: 6, 2: 2, 5: 1, 4: 1, 3: 1}\n",
      "{1: 6, 2: 2, 5: 1, 4: 1, 3: 1}\n",
      "{1: 6, 2: 2, 5: 1, 4: 1, 3: 1}\n",
      "{1: 6, 2: 2, 5: 1, 4: 1, 3: 1}\n",
      "{1: 6, 2: 2, 5: 1, 4: 1, 3: 1}\n",
      "{1: 6, 2: 2, 5: 1, 4: 1, 3: 1, 'e': 2}\n",
      "{1: 6, 2: 2, 5: 1, 4: 1, 3: 1, 'e': 2}\n",
      "-----------------------------------------------------------------------------------------\n",
      "The newly created dictionary as per requirement of the task is as follows.\n",
      "{1: 6, 2: 2, 5: 1, 4: 1, 3: 1, 'e': 2}\n"
     ]
    }
   ],
   "source": [
    "#the code is designed to loop through the length of the list for each value. \n",
    "#the print here is intentionally indented to show the the workings of the for loop function.\n",
    "#in the first loop i=1 (first element in the list) and it counts the number of 1's, \n",
    "#in second loop i=2 and counts the number of 2's, third loop 5 etc.\n",
    "#the count function counts the number of times the element appears in the list.\n",
    "#mydict[mylist[i]] from code below is the key in the dictionary\n",
    "#mylist.count(mylist[i]) looks at the first value in the list and counts the number of times it repeats\n",
    "\n",
    "for i in range (len(mylist)):\n",
    "    mydict[mylist[i]] = mylist.count(mylist[i])\n",
    "    print(mydict)\n",
    "print('-----------------------------------------------------------------------------------------')\n",
    "print('The newly created dictionary as per requirement of the task is as follows.')\n",
    "print(mydict)"
   ]
  },
  {
   "cell_type": "markdown",
   "metadata": {},
   "source": [
    " #### Learnings\n",
    "Good learning here around the understanding of lists and dictionaries. Simple tasks such as counting the number of elements in a list, creatng dictionaries from lists and counting the number of elements in a list and creating a dictionary and how a dictionary consists of a collection of key-value pairs.\n",
    "\n",
    "With reference to the code above with indenting the print function within the for loop it's interesting to visualise the dictionary being constructed on a loop by loop basis. You can see that there are 13 elements in the list and the for loop went through the list 13 times. However there are only 6 different lists, meaning that on the first loop all the 1's were counted and asigned to the key \"1\" so whenever the for loop came to 1 again it still went through the list but didn't create a new key as evident on the 5th and 6th loops. This is because dictionaries cannot have duplicate values."
   ]
  },
  {
   "cell_type": "markdown",
   "metadata": {},
   "source": [
    "#### References\n",
    "[1] James Galagher; Python Convert List to Dictionary; Career Karma; https://careerkarma.com/blog/python-convert-list-to-dictionary/\n",
    "[2] Stack Overflow; Python - Count elements in list; https://stackoverflow.com/questions/4130027/python-count-elements-in-list\n",
    "[3] Stack Overflow; Python - Convert list to dictionary; https://stackoverflow.com/questions/6900955/python-convert-list-to-dictionary\n",
    "[4] Python Programming: Creating a dictionary from a list; Tawsif Alam; https://www.youtube.com/watch?v=LcM8h2YoVfg"
   ]
  }
 ],
 "metadata": {
  "kernelspec": {
   "display_name": "Python 3",
   "language": "python",
   "name": "python3"
  },
  "language_info": {
   "codemirror_mode": {
    "name": "ipython",
    "version": 3
   },
   "file_extension": ".py",
   "mimetype": "text/x-python",
   "name": "python",
   "nbconvert_exporter": "python",
   "pygments_lexer": "ipython3",
   "version": "3.8.3"
  }
 },
 "nbformat": 4,
 "nbformat_minor": 4
}
